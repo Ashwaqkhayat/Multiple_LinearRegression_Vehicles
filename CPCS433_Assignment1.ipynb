{
  "nbformat": 4,
  "nbformat_minor": 0,
  "metadata": {
    "colab": {
      "provenance": [],
      "toc_visible": true
    },
    "kernelspec": {
      "name": "python3",
      "display_name": "Python 3"
    },
    "language_info": {
      "name": "python"
    }
  },
  "cells": [
    {
      "cell_type": "markdown",
      "source": [
        "## **Load Dataset Files**"
      ],
      "metadata": {
        "id": "d4Jonr9Zzmsk"
      }
    },
    {
      "cell_type": "code",
      "execution_count": 1,
      "metadata": {
        "id": "5eHaRWqHvcOg"
      },
      "outputs": [],
      "source": [
        "import numpy as np\n",
        "import pandas as pd\n",
        "import matplotlib.pyplot as plt\n",
        "import seaborn as sns\n",
        "from sklearn.preprocessing import LabelEncoder\n",
        "\n",
        "df = pd.read_csv('/content/drive/MyDrive/Datasets/vehicles.csv')"
      ]
    },
    {
      "cell_type": "markdown",
      "source": [
        "## **Dataset Preprocessing**"
      ],
      "metadata": {
        "id": "egCpLH3-0HS9"
      }
    },
    {
      "cell_type": "markdown",
      "source": [
        "### Dropping Unnecessary Columns"
      ],
      "metadata": {
        "id": "xFLxLk9pPPjS"
      }
    },
    {
      "cell_type": "code",
      "source": [
        "column_to_drop = ['id','url','region_url','VIN', 'paint_color', 'image_url', 'description', 'county', 'region', 'state', 'lat', 'long']\n",
        "df = df.drop(column_to_drop, axis=1)"
      ],
      "metadata": {
        "id": "MrgzBQ8aPVLX"
      },
      "execution_count": 2,
      "outputs": []
    },
    {
      "cell_type": "markdown",
      "source": [
        "### Handling Missing Values #1: Drop Rows With 50% Nulls\n",
        "> Rows with more than 50% null values will be deleted, and rows with less than 50% null values wil be filled with mean value"
      ],
      "metadata": {
        "id": "etgY_-BU4_hS"
      }
    },
    {
      "cell_type": "code",
      "source": [
        "#Identify null values with boolean true/false\n",
        "print(\"There are\", df.isnull().sum().sum(), \"null values in the dataset. In details:\")\n",
        "df.isnull().sum()"
      ],
      "metadata": {
        "colab": {
          "base_uri": "https://localhost:8080/",
          "height": 0
        },
        "id": "_oP0F8yR0RF5",
        "outputId": "2bc4cf30-a999-4092-82c7-53f247939890"
      },
      "execution_count": 3,
      "outputs": [
        {
          "output_type": "stream",
          "name": "stdout",
          "text": [
            "There are 923975 null values in the dataset. In details:\n"
          ]
        },
        {
          "output_type": "execute_result",
          "data": {
            "text/plain": [
              "price                0\n",
              "year              1205\n",
              "manufacturer     17646\n",
              "model             5277\n",
              "condition       174104\n",
              "cylinders       177678\n",
              "fuel              3013\n",
              "odometer          4400\n",
              "title_status      8242\n",
              "transmission      2556\n",
              "drive           130567\n",
              "size            306361\n",
              "type             92858\n",
              "posting_date        68\n",
              "dtype: int64"
            ]
          },
          "metadata": {},
          "execution_count": 3
        }
      ]
    },
    {
      "cell_type": "code",
      "source": [
        "# Calculate the percentage of null values in each row using the sum and count methods:\n",
        "null_percentages = df.isna().sum(axis=1) / df.shape[1] * 100\n",
        "# Boolean mask to identify rows with more than 50% null values:\n",
        "mask = null_percentages >= 50"
      ],
      "metadata": {
        "id": "tqpiu7Xk6Qa6"
      },
      "execution_count": 4,
      "outputs": []
    },
    {
      "cell_type": "code",
      "source": [
        "# Drop rows with more than 50% null values\n",
        "df = df.drop(df[mask].index, axis=0)"
      ],
      "metadata": {
        "id": "7ZWaIkcNPTG5"
      },
      "execution_count": 5,
      "outputs": []
    },
    {
      "cell_type": "markdown",
      "source": [
        "### Handling Categorical Data\n",
        "> Using Label Encoding"
      ],
      "metadata": {
        "id": "UL8d2psNBhJR"
      }
    },
    {
      "cell_type": "code",
      "source": [
        "# Split columns to categorical & numerical data\n",
        "df_cat = df.select_dtypes(object)\n",
        "df_num = df.select_dtypes(np.number)"
      ],
      "metadata": {
        "id": "9h0I80OrCkGv"
      },
      "execution_count": 27,
      "outputs": []
    },
    {
      "cell_type": "code",
      "source": [
        "# Loop through categorical columns and convert them to numerical using Label Encoding\n",
        "for col in df_cat:\n",
        "  le = LabelEncoder()\n",
        "  df_cat[col] = le.fit_transform(df_cat[col])"
      ],
      "metadata": {
        "id": "bJHNr2d_VP0Q"
      },
      "execution_count": 28,
      "outputs": []
    },
    {
      "cell_type": "code",
      "source": [
        "# Concatenate the columns together in a single dataframe called df2\n",
        "df2 = pd.concat([df_cat, df_num], axis=1)"
      ],
      "metadata": {
        "id": "19E64dxMWWCy"
      },
      "execution_count": 29,
      "outputs": []
    },
    {
      "cell_type": "markdown",
      "source": [
        "### Handling Missing Values 2: Data Interpolation\n"
      ],
      "metadata": {
        "id": "qgVuCbd7XqTq"
      }
    },
    {
      "cell_type": "code",
      "source": [
        "# Interpolate the rest of the rows with mean values of each column\n",
        "\n",
        "for col in df2.columns:\n",
        "  if df2[col].isnull().any():\n",
        "    # Calculate the mean of the non-null values\n",
        "    col_mean = df2[col].mean()\n",
        "    # Fill the null values with the mean\n",
        "    df2[col] = df2[col].fillna(col_mean)"
      ],
      "metadata": {
        "id": "IYoDDnfMaC4E"
      },
      "execution_count": 30,
      "outputs": []
    },
    {
      "cell_type": "code",
      "source": [
        "print(\"Original data null values\", df.isnull().sum().sum())\n",
        "print(\"Modified data null values\", df2.isnull().sum().sum())"
      ],
      "metadata": {
        "colab": {
          "base_uri": "https://localhost:8080/",
          "height": 0
        },
        "id": "8hci2RXrcWRf",
        "outputId": "03ba87e3-4ddb-4df4-dc10-5db5b4df2daa"
      },
      "execution_count": 31,
      "outputs": [
        {
          "output_type": "stream",
          "name": "stdout",
          "text": [
            "Original data null values 916345\n",
            "Modified data null values 0\n"
          ]
        }
      ]
    },
    {
      "cell_type": "markdown",
      "source": [
        "### Detect & Remove Outliers\n",
        "> Using z-score method"
      ],
      "metadata": {
        "id": "fOtBqfF1nExY"
      }
    },
    {
      "cell_type": "code",
      "source": [
        "# Remove rows which has outliers in any column using z-score method\n",
        "def remove_outliers(data, threshold=3):\n",
        "  # Calculate the z-scores\n",
        "  z_scores = np.abs((data - data.mean()) / data.std())\n",
        "  # Identify rows with outliers\n",
        "  outliers = (z_scores > threshold).any(axis=1)\n",
        "  # Remove rows with outliers\n",
        "  cleaned_data = data[~outliers]\n",
        "\n",
        "  return cleaned_data\n",
        "\n",
        "# Call Remove outliers function\n",
        "df3 = remove_outliers(df2)"
      ],
      "metadata": {
        "id": "0h3ZuA90xnrg"
      },
      "execution_count": 32,
      "outputs": []
    },
    {
      "cell_type": "markdown",
      "source": [
        "### Unit all values datatype into float"
      ],
      "metadata": {
        "id": "dEfBow8T5t4G"
      }
    },
    {
      "cell_type": "code",
      "source": [
        "df3 = df3.astype(float)"
      ],
      "metadata": {
        "id": "nPakCF0353dz"
      },
      "execution_count": 33,
      "outputs": []
    },
    {
      "cell_type": "markdown",
      "source": [
        "## **Divide the Dataset Into Training & Testing**\n",
        "> using splitting ratio 80:20"
      ],
      "metadata": {
        "id": "TDkKN6hF5HAy"
      }
    },
    {
      "cell_type": "code",
      "source": [
        "from sklearn.model_selection import train_test_split\n",
        "\n",
        "# Divide the dataset into features (X) and target variable (y)\n",
        "x = df3.drop('price', axis=1)  # Features\n",
        "y = df3['price']  # Target variable"
      ],
      "metadata": {
        "id": "Ul4E6z2EIXza"
      },
      "execution_count": 34,
      "outputs": []
    },
    {
      "cell_type": "code",
      "source": [
        "# Add a new column of x0 with values of 1\n",
        "from sklearn import preprocessing\n",
        "x = preprocessing.scale(x)\n",
        "x = np.c_[np.ones(x.shape[0]),x]\n",
        "print(\"checking the new column:\\n\", x)"
      ],
      "metadata": {
        "colab": {
          "base_uri": "https://localhost:8080/",
          "height": 0
        },
        "id": "ZgfIlvHlsa4h",
        "outputId": "e13059e6-e340-4276-e988-9f63e366d007"
      },
      "execution_count": 35,
      "outputs": [
        {
          "output_type": "stream",
          "name": "stdout",
          "text": [
            "checking the new column:\n",
            " [[ 1.         -0.46244125  0.93324641 ...  1.60357333  0.28121224\n",
            "  -0.53332357]\n",
            " [ 1.         -1.03269055  0.98391415 ...  1.60340124 -0.36463601\n",
            "  -0.32843184]\n",
            " [ 1.         -1.03269055  0.98985276 ...  1.60370013  1.24998462\n",
            "  -1.13021358]\n",
            " ...\n",
            " [ 1.         -1.11415473  1.56349752 ... -1.73978193  1.24998462\n",
            "  -1.36097471]\n",
            " [ 1.          0.27073641 -0.43907862 ... -1.73979099  0.92706049\n",
            "  -0.96156979]\n",
            " [ 1.         -1.2770831  -1.75037493 ... -1.73980005  1.08852256\n",
            "  -1.0754567 ]]\n"
          ]
        }
      ]
    },
    {
      "cell_type": "code",
      "source": [
        "# Split the data into training and testing sets with test size of 20%\n",
        "x_train, x_test, y_train, y_test = train_test_split(x, y, test_size=0.2, random_state=42)"
      ],
      "metadata": {
        "id": "0QZTN5a4sYEM"
      },
      "execution_count": 36,
      "outputs": []
    },
    {
      "cell_type": "code",
      "source": [
        "print(\"x_train shape:\",x_train.shape)\n",
        "print(\"x_test shape:\",x_test.shape)\n",
        "print(\"y_train shape:\",y_train.shape)\n",
        "print(\"y_test shape:\",y_test.shape)"
      ],
      "metadata": {
        "colab": {
          "base_uri": "https://localhost:8080/",
          "height": 0
        },
        "id": "10k3JIc2J30S",
        "outputId": "af60678a-629e-403a-b4ef-70d2d4e78856"
      },
      "execution_count": 37,
      "outputs": [
        {
          "output_type": "stream",
          "name": "stdout",
          "text": [
            "x_train shape: (314201, 14)\n",
            "x_test shape: (78551, 14)\n",
            "y_train shape: (314201,)\n",
            "y_test shape: (78551,)\n"
          ]
        }
      ]
    },
    {
      "cell_type": "markdown",
      "source": [
        "## **Model Implementation**\n",
        "> **Cost Function :** Mean Squared Error (MSE)"
      ],
      "metadata": {
        "id": "mE7ZzziJOtUj"
      }
    },
    {
      "cell_type": "code",
      "source": [
        "class MLinearRegression:\n",
        "  # initial values\n",
        "  def __init__(self, learning_rate, epochs):\n",
        "    self.learning_rate = learning_rate\n",
        "    self.epochs = epochs\n",
        "    self.weights = None\n",
        "    self.bias = None\n",
        "    # to Keep a record of the cost at each iteration\n",
        "    self.cost_record = []\n",
        "\n",
        "  # Fit the model\n",
        "  def fit(self, x, y):\n",
        "      # x rows = samples, x columns = features\n",
        "      n_samples, n_features = x.shape\n",
        "      # Initialize Bias\n",
        "      self.bias = 0\n",
        "      # Initialize all weights with random numbers, where the vector size is equal to the number of features\n",
        "      self.weights = np.random.randn(n_features)\n",
        "\n",
        "      for i in range(self.epochs):\n",
        "        # Dot product of x with Transpose of weights, if bias is considered then add it +self.bias\n",
        "        y_predict = np.dot(x, self.weights.T) + self.bias\n",
        "        # Calculate the error difference\n",
        "        difference = y - y_predict\n",
        "        # Calculate Cost using MSE and add it to the cost record\n",
        "        cost = (1/n_samples)*np.sum(np.square(difference))\n",
        "        self.cost_record.append(cost)\n",
        "        # Compute Gradient\n",
        "        gradientD = (-2/n_samples)*np.dot(x.T, difference)\n",
        "        # Update Parameters\n",
        "        self.weights = self.weights - self.learning_rate*gradientD\n",
        "\n",
        "  # Predict\n",
        "  def predict(self, x):\n",
        "    return np.dot(x, self.weights)"
      ],
      "metadata": {
        "id": "zr8U8G1YUdVL"
      },
      "execution_count": 38,
      "outputs": []
    },
    {
      "cell_type": "markdown",
      "source": [
        "## **Model Training**\n",
        "> **learning rate :** 𝜶=0.1,\n",
        "> **Epochs :** 10 epochs"
      ],
      "metadata": {
        "id": "fpBJfDxgJgX1"
      }
    },
    {
      "cell_type": "code",
      "source": [
        "linearRegression = MLinearRegression(0.1, 10) # Learnng_rate = 0.1, Epochs = 10\n",
        "linearRegression.fit(x_train, y_train)"
      ],
      "metadata": {
        "id": "npBgen0rJppl"
      },
      "execution_count": 39,
      "outputs": []
    },
    {
      "cell_type": "markdown",
      "source": [
        "## **Model Performance Testing**\n",
        "> Computing and reporting the MSE on the testset"
      ],
      "metadata": {
        "id": "t3KHo4wkKcbs"
      }
    },
    {
      "cell_type": "code",
      "source": [
        "# Compute MSE of the test set\n",
        "y_predict = linearRegression.predict(x_test)\n",
        "MSE_test = np.mean((y_test - y_predict) ** 2)\n",
        "# Report MSE of the test set\n",
        "print(\"Mean Squared Error (MSE) of the test set is:\", MSE_test, \"\\n\")\n",
        "\n",
        "# print(\"Calculated weights:\", linearRegression.weights,\"\\n\")   <-- Uncomment to display the final weights\n",
        "# print(\"Cost Record:\", linearRegression.cost_record)           <-- Uncomment to display the costs record"
      ],
      "metadata": {
        "colab": {
          "base_uri": "https://localhost:8080/",
          "height": 0
        },
        "id": "xBrAUR7eXz4w",
        "outputId": "d82b1527-bc22-47c3-b60d-4bde07ebe935"
      },
      "execution_count": 40,
      "outputs": [
        {
          "output_type": "stream",
          "name": "stdout",
          "text": [
            "Mean Squared Error (MSE) of the test set is: 4116449619.392749 \n",
            "\n"
          ]
        }
      ]
    },
    {
      "cell_type": "markdown",
      "source": [
        "## **Results Analysis**"
      ],
      "metadata": {
        "id": "joq3Y_AIaCIX"
      }
    },
    {
      "cell_type": "markdown",
      "source": [
        "### Plotting Cost vs. Iterations"
      ],
      "metadata": {
        "id": "jV986dctv5k7"
      }
    },
    {
      "cell_type": "code",
      "source": [
        "# Plot the cost record v. iterations\n",
        "plt.plot(range(linearRegression.epochs), linearRegression.cost_record)\n",
        "\n",
        "# Add labels and title\n",
        "plt.xlabel('Iterations')\n",
        "plt.ylabel('Cost')\n",
        "plt.title('Cost vs. Iterations')\n",
        "\n",
        "# Show the plot\n",
        "plt.show()"
      ],
      "metadata": {
        "colab": {
          "base_uri": "https://localhost:8080/",
          "height": 472
        },
        "id": "X41UoAlnjjWo",
        "outputId": "3de18092-e560-4db3-d851-763be19daf90"
      },
      "execution_count": 41,
      "outputs": [
        {
          "output_type": "display_data",
          "data": {
            "text/plain": [
              "<Figure size 640x480 with 1 Axes>"
            ],
            "image/png": "[encoded data removed]"
          },
          "metadata": {}
        }
      ]
    },
    {
      "cell_type": "markdown",
      "source": [
        "### Most Significant Features"
      ],
      "metadata": {
        "id": "ViRk8jItvyF1"
      }
    },
    {
      "cell_type": "code",
      "source": [
        "# Remove the first column values that contains x0 values and its coefficients\n",
        "df4 = df3.drop('price', axis=1)\n",
        "feature_names = df4.columns\n",
        "coefficients = linearRegression.weights[1:]\n",
        "\n",
        "# Create a DataFrame with features and coefficients\n",
        "coef_df = pd.DataFrame({'Feature': feature_names, 'Coefficient': coefficients})\n",
        "\n",
        "# Sort the DataFrame by the absolute values of coefficients in descending order\n",
        "coef_df = coef_df.reindex(coef_df['Coefficient'].abs().sort_values(ascending=False).index)\n",
        "\n",
        "# Print the 5 most significant features\n",
        "print(\"Most Significant Features Are\\n\")\n",
        "for index, row in coef_df.head(5).iterrows():\n",
        "    print(f\"{index+1}) {row['Feature']}: {row['Coefficient']:.2f}\")"
      ],
      "metadata": {
        "colab": {
          "base_uri": "https://localhost:8080/",
          "height": 0
        },
        "id": "6XF9MtpTx6Re",
        "outputId": "8fc8aeac-1629-4c39-cc1d-160d60acd2ad"
      },
      "execution_count": 44,
      "outputs": [
        {
          "output_type": "stream",
          "name": "stdout",
          "text": [
            "Most Significant Features Are\n",
            "\n",
            "12) year: 4025.58\n",
            "13) odometer: -3345.87\n",
            "7) transmission: 2101.88\n",
            "5) fuel: -2092.22\n",
            "4) cylinders: 1602.82\n"
          ]
        }
      ]
    }
  ]
}